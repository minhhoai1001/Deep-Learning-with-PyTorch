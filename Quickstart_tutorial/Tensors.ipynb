{
 "metadata": {
  "language_info": {
   "codemirror_mode": {
    "name": "ipython",
    "version": 3
   },
   "file_extension": ".py",
   "mimetype": "text/x-python",
   "name": "python",
   "nbconvert_exporter": "python",
   "pygments_lexer": "ipython3",
   "version": "3.8.5"
  },
  "orig_nbformat": 2,
  "kernelspec": {
   "name": "python385jvsc74a57bd095c10dbc6f7eccef0c1ace84822d618f7863d3bc26cab307fc0169bb43c23fbe",
   "display_name": "Python 3.8.5 64-bit ('base': conda)"
  }
 },
 "nbformat": 4,
 "nbformat_minor": 2,
 "cells": [
  {
   "source": [
    "# TENSORS\n",
    "Tensors là một cấu trúc dữ liệu chuyên biệt rất giống với mảng và ma trận. Trong PyTorch, chúng tôi sử dụng các tensor để mã hóa các đầu vào và đầu ra của mô hình, cũng như các thông số của mô hình.\n",
    "\n",
    "Tensors tương tự như NumPy’s ndarrays, ngoại trừ Tensors có thể chạy trên GPU hoặc các trình tăng tốc phần cứng khác. Trên thực tế, các tensor và mảng NumPy thường có thể chia sẻ cùng một bộ nhớ bên dưới, loại bỏ nhu cầu sao chép dữ liệu (xem [Bridge with NumPy](https://pytorch.org/tutorials/beginner/blitz/tensor_tutorial.html#bridge-to-np-label)). Các tensor cũng được tối ưu hóa để tự động phân biệt (chúng ta sẽ xem thêm về điều đó sau trong phần [Autograd](https://pytorch.org/tutorials/beginner/basics/autogradqs_tutorial.html)). Nếu bạn đã quen với ndarrays, bạn sẽ có thể sử dụng ngay tại nhà với Tensor API. Nếu chưa thì cùng theo dõi nhé!"
   ],
   "cell_type": "markdown",
   "metadata": {}
  },
  {
   "cell_type": "code",
   "execution_count": 1,
   "metadata": {},
   "outputs": [],
   "source": [
    "import torch\n",
    "import numpy as np"
   ]
  },
  {
   "source": [
    "## Khởi tạo Tensor\n",
    "Tensor có thể được khởi tạo bằng nhiều cách khác nhau. Hãy xem các ví dụ sau:\n",
    "### Trực tiếp từ data\n",
    "Tensor có thể được tạo trực tiếp từ data. Kiểu dữ liệu được suy ra tự động."
   ],
   "cell_type": "markdown",
   "metadata": {}
  },
  {
   "cell_type": "code",
   "execution_count": 2,
   "metadata": {},
   "outputs": [],
   "source": [
    "data = [[1, 2],[3, 4]]\n",
    "x_data = torch.tensor(data)"
   ]
  },
  {
   "source": [
    "### Từ mảng Numpy\n",
    "Tensor có thể được tạo từ mảng NumPy (và ngược lại - xem [Bridge with NumPy](https://pytorch.org/tutorials/beginner/blitz/tensor_tutorial.html#bridge-to-np-label))."
   ],
   "cell_type": "markdown",
   "metadata": {}
  },
  {
   "cell_type": "code",
   "execution_count": 3,
   "metadata": {},
   "outputs": [],
   "source": [
    "np_array = np.array(data)\n",
    "x_np = torch.from_numpy(np_array)"
   ]
  },
  {
   "source": [
    "### Từ một tensor khác\n",
    "Tensor mới giữ lại các thuộc tính (hình dạng, kiểu dữ liệu) của đối số tensor, trừ khi bị ghi đè."
   ],
   "cell_type": "markdown",
   "metadata": {}
  },
  {
   "cell_type": "code",
   "execution_count": 4,
   "metadata": {},
   "outputs": [
    {
     "output_type": "stream",
     "name": "stdout",
     "text": [
      "Ones Tensor: \n tensor([[1, 1],\n        [1, 1]]) \n\nOnes Tensor: \n tensor([[0.7909, 0.9287],\n        [0.5137, 0.6068]]) \n\n"
     ]
    }
   ],
   "source": [
    "x_ones = torch.ones_like(x_data) # giữ lại các thuộc tính của x_data \n",
    "print(f\"Ones Tensor: \\n {x_ones} \\n\")\n",
    "\n",
    "x_rand = torch.rand_like(x_data, dtype=torch.float) # ghi đè kiểu dữ liệu của x_data\n",
    "print(f\"Ones Tensor: \\n {x_rand} \\n\")"
   ]
  },
  {
   "source": [
    "### Với các giá trị ngẫu nhiên hoặc không đổi:\n",
    "\n",
    "`shape` là một bộ kích thước tensor. Trong các hàm bên dưới, nó xác định kích thước của tensor đầu ra."
   ],
   "cell_type": "markdown",
   "metadata": {}
  },
  {
   "cell_type": "code",
   "execution_count": 5,
   "metadata": {},
   "outputs": [
    {
     "output_type": "stream",
     "name": "stdout",
     "text": [
      "Random Tensor: \n tensor([[0.0776, 0.6334, 0.2463],\n        [0.3295, 0.7944, 0.8388]]) \n\nOnes Tensor: \n tensor([[1., 1., 1.],\n        [1., 1., 1.]]) \n\nZeros Tensor: \n tensor([[0., 0., 0.],\n        [0., 0., 0.]]) \n\n"
     ]
    }
   ],
   "source": [
    "shape = (2, 3, )\n",
    "rand_tensor = torch.rand(shape)\n",
    "ones_tensor = torch.ones(shape)\n",
    "zeros_tensor = torch.zeros(shape)\n",
    "\n",
    "print(f\"Random Tensor: \\n {rand_tensor} \\n\")\n",
    "print(f\"Ones Tensor: \\n {ones_tensor} \\n\")\n",
    "print(f\"Zeros Tensor: \\n {zeros_tensor} \\n\")"
   ]
  },
  {
   "source": [
    "## Các thuộc tính của một Tensor\n",
    "Thuộc tính tensor mô tả hình dạng, kiểu dữ liệu và thiết bị mà chúng được lưu trữ trên đó."
   ],
   "cell_type": "markdown",
   "metadata": {}
  },
  {
   "cell_type": "code",
   "execution_count": 6,
   "metadata": {},
   "outputs": [
    {
     "output_type": "stream",
     "name": "stdout",
     "text": [
      "Shape of tensor: torch.Size([3, 4])\nDatatype of tensor: torch.float32\nDevice tensor is stored on: cpu\n"
     ]
    }
   ],
   "source": [
    "tensor = torch.rand(3, 4)\n",
    "\n",
    "print(f\"Shape of tensor: {tensor.shape}\")\n",
    "print(f\"Datatype of tensor: {tensor.dtype}\")\n",
    "print(f\"Device tensor is stored on: {tensor.device}\")"
   ]
  },
  {
   "source": [
    "## Toán tử (Operations) trên Tensors\n",
    "Hơn 100 phép toán tensor, bao gồm số học, đại số tuyến tính, thao tác ma trận (chuyển vị ((transposing), lập chỉ mục (indexing), cắt (slicing)), lấy mẫu (sampling) và hơn thế nữa được mô tả toàn diện tại đây.\n",
    "\n",
    "Mỗi hoạt động này có thể được chạy trên GPU (thường ở tốc độ cao hơn trên CPU). Nếu bạn đang sử dụng Colab, hãy phân bổ GPU bằng cách đi tới **Runtime  > Change runtime type > GPU**.\n",
    "\n",
    "Theo mặc định, tensor được tạo trên CPU. Chúng ta cần phải di chuyển rõ ràng các tensors sang GPU bằng phương thức .to (sau khi kiểm tra tính khả dụng của GPU). Hãy nhớ rằng việc sao chép các bộ nhớ lớn trên các thiết bị có thể tốn kém về thời gian và bộ nhớ!"
   ],
   "cell_type": "markdown",
   "metadata": {}
  },
  {
   "cell_type": "code",
   "execution_count": 7,
   "metadata": {},
   "outputs": [],
   "source": [
    "# We move our tensor to the GPU if available\n",
    "if torch.cuda.is_available():\n",
    "    tensor = tensor.to('cuda')"
   ]
  },
  {
   "source": [
    "Hãy thử một số thao tác từ danh sách. Nếu bạn đã quen thuộc với API NumPy, bạn sẽ thấy API Tensor thật dễ sử dụng.\n",
    "### Lập chỉ mục và cắt giống như numpy tiêu chuẩn:"
   ],
   "cell_type": "markdown",
   "metadata": {}
  },
  {
   "cell_type": "code",
   "execution_count": 8,
   "metadata": {},
   "outputs": [
    {
     "output_type": "stream",
     "name": "stdout",
     "text": [
      "First row:  tensor([1., 1., 1., 1.])\nFirst column:  tensor([1., 1., 1., 1.])\nLast column:  tensor([1., 1., 1., 1.])\ntensor([[1., 1., 1., 0.],\n        [1., 1., 1., 0.],\n        [1., 1., 1., 0.],\n        [1., 1., 1., 0.]])\n"
     ]
    }
   ],
   "source": [
    "tensor = torch.ones(4, 4)\n",
    "print('First row: ', tensor[0])\n",
    "print('First column: ', tensor[:, 0])\n",
    "print('Last column: ', tensor[..., -1])\n",
    "tensor[:, -1] = 0\n",
    "print(tensor)"
   ]
  },
  {
   "source": [
    "### Nối các tensor \n",
    "Bạn có thể sử dụng `torch.cat` để nối một chuỗi các tensor dọc theo một kích thước nhất định. Xem thêm `torch.stack`, một tensor nối với tensor khác với `torch.cat` một cách tinh tế."
   ],
   "cell_type": "markdown",
   "metadata": {}
  },
  {
   "cell_type": "code",
   "execution_count": 9,
   "metadata": {},
   "outputs": [
    {
     "output_type": "stream",
     "name": "stdout",
     "text": [
      "tensor([[1., 1., 1., 0., 1., 1., 1., 0., 1., 1., 1., 0.],\n        [1., 1., 1., 0., 1., 1., 1., 0., 1., 1., 1., 0.],\n        [1., 1., 1., 0., 1., 1., 1., 0., 1., 1., 1., 0.],\n        [1., 1., 1., 0., 1., 1., 1., 0., 1., 1., 1., 0.]])\n"
     ]
    }
   ],
   "source": [
    "t1 = torch.cat([tensor, tensor, tensor], dim=1)\n",
    "print(t1)"
   ]
  },
  {
   "source": [
    "### Các phép tính toán học\n"
   ],
   "cell_type": "markdown",
   "metadata": {}
  },
  {
   "cell_type": "code",
   "execution_count": 11,
   "metadata": {},
   "outputs": [
    {
     "output_type": "execute_result",
     "data": {
      "text/plain": [
       "tensor([[1., 1., 1., 0.],\n",
       "        [1., 1., 1., 0.],\n",
       "        [1., 1., 1., 0.],\n",
       "        [1., 1., 1., 0.]])"
      ]
     },
     "metadata": {},
     "execution_count": 11
    }
   ],
   "source": [
    "# Điều này tính toán phép nhân ma trận giữa hai tensor. y1, y2, y3 sẽ có cùng giá trị\n",
    "y1 = tensor @ tensor.T\n",
    "y2 = tensor.matmul(tensor.T)\n",
    "\n",
    "y3 = torch.rand_like(tensor)\n",
    "torch.matmul(tensor, tensor.T, out=y3)\n",
    "\n",
    "# Điều này tính toán các phần tử. z1, z2, z3 sẽ có cùng giá trị\n",
    "z1 = tensor * tensor\n",
    "z2 = tensor.mul(tensor)\n",
    "z3 = torch.rand_like(tensor)\n",
    "torch.mul(tensor, tensor, out=z3)"
   ]
  },
  {
   "source": [
    "### Các tensor một phần tử \n",
    "Nếu bạn có tensor một phần tử, chẳng hạn bằng cách tổng hợp tất cả các giá trị của tensor thành một giá trị, bạn có thể chuyển đổi nó thành một giá trị số Python bằng cách sử dụng `item()`:"
   ],
   "cell_type": "markdown",
   "metadata": {}
  },
  {
   "cell_type": "code",
   "execution_count": 12,
   "metadata": {},
   "outputs": [
    {
     "output_type": "stream",
     "name": "stdout",
     "text": [
      "12.0 <class 'float'>\n"
     ]
    }
   ],
   "source": [
    "agg = tensor.sum()\n",
    "agg_item = agg.item()\n",
    "print(agg_item, type(agg_item))"
   ]
  },
  {
   "source": [
    "### Các phép toán tại chỗ (In-place operations)\n",
    "Các phép toán lưu trữ kết quả vào toán hạng được gọi là tại chỗ. Chúng được biểu thị bằng hậu tố `_`. Ví dụ: `x.copy_ (y)`, `x.t_ ()`, sẽ thay đổi `x`."
   ],
   "cell_type": "markdown",
   "metadata": {}
  },
  {
   "cell_type": "code",
   "execution_count": 13,
   "metadata": {},
   "outputs": [
    {
     "output_type": "stream",
     "name": "stdout",
     "text": [
      "tensor([[1., 1., 1., 0.],\n        [1., 1., 1., 0.],\n        [1., 1., 1., 0.],\n        [1., 1., 1., 0.]]) \n\ntensor([[6., 6., 6., 5.],\n        [6., 6., 6., 5.],\n        [6., 6., 6., 5.],\n        [6., 6., 6., 5.]])\n"
     ]
    }
   ],
   "source": [
    "print(tensor, \"\\n\")\n",
    "tensor.add_(5)\n",
    "print(tensor)"
   ]
  },
  {
   "source": [
    "# Bridge with NumPy\n",
    "Tensors on the CPU and NumPy arrays can share their underlying memory locations, and changing one will change the other.\n",
    "## Tensor to NumPy array"
   ],
   "cell_type": "markdown",
   "metadata": {}
  },
  {
   "cell_type": "code",
   "execution_count": 14,
   "metadata": {},
   "outputs": [
    {
     "output_type": "stream",
     "name": "stdout",
     "text": [
      "t: tensor([1., 1., 1., 1., 1.])\nn: [1. 1. 1. 1. 1.]\n"
     ]
    }
   ],
   "source": [
    "t = torch.ones(5)\n",
    "print(f\"t: {t}\")\n",
    "n = t.numpy()\n",
    "print(f\"n: {n}\")"
   ]
  },
  {
   "source": [
    "Một sự thay đổi trong tensor phản ánh trong mảng NumPy."
   ],
   "cell_type": "markdown",
   "metadata": {}
  },
  {
   "cell_type": "code",
   "execution_count": 15,
   "metadata": {},
   "outputs": [
    {
     "output_type": "stream",
     "name": "stdout",
     "text": [
      "t: tensor([2., 2., 2., 2., 2.])\nn: [2. 2. 2. 2. 2.]\n"
     ]
    }
   ],
   "source": [
    "t.add_(1)\n",
    "print(f\"t: {t}\")\n",
    "print(f\"n: {n}\")"
   ]
  },
  {
   "source": [
    "## NumPy array to Tensor"
   ],
   "cell_type": "markdown",
   "metadata": {}
  },
  {
   "cell_type": "code",
   "execution_count": 16,
   "metadata": {},
   "outputs": [],
   "source": [
    "n= np.ones(5)\n",
    "t = torch.from_numpy(n)"
   ]
  },
  {
   "source": [
    "Những thay đổi trong mảng NumPy phản ánh trong tensor."
   ],
   "cell_type": "markdown",
   "metadata": {}
  },
  {
   "cell_type": "code",
   "execution_count": 17,
   "metadata": {},
   "outputs": [
    {
     "output_type": "stream",
     "name": "stdout",
     "text": [
      "t: tensor([2., 2., 2., 2., 2.], dtype=torch.float64)\nn: [2. 2. 2. 2. 2.]\n"
     ]
    }
   ],
   "source": [
    "np.add(n, 1, out=n)\n",
    "print(f\"t: {t}\")\n",
    "print(f\"n: {n}\")"
   ]
  },
  {
   "cell_type": "code",
   "execution_count": null,
   "metadata": {},
   "outputs": [],
   "source": []
  }
 ]
}