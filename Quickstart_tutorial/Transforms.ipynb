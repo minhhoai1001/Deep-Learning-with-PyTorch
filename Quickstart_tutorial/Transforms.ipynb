{
 "metadata": {
  "language_info": {
   "codemirror_mode": {
    "name": "ipython",
    "version": 3
   },
   "file_extension": ".py",
   "mimetype": "text/x-python",
   "name": "python",
   "nbconvert_exporter": "python",
   "pygments_lexer": "ipython3",
   "version": "3.8.5"
  },
  "orig_nbformat": 2,
  "kernelspec": {
   "name": "python385jvsc74a57bd095c10dbc6f7eccef0c1ace84822d618f7863d3bc26cab307fc0169bb43c23fbe",
   "display_name": "Python 3.8.5 64-bit ('base': conda)"
  }
 },
 "nbformat": 4,
 "nbformat_minor": 2,
 "cells": [
  {
   "source": [
    "# TRANSFORMS\n",
    "Không phải lúc nào dữ liệu cũng ở dạng được xử lý cuối cùng cần thiết để đào tạo các thuật toán học máy. Chúng tôi sử dụng các phép biến đổi để thực hiện một số thao tác với dữ liệu và làm cho dữ liệu phù hợp để đào tạo.\n",
    "\n",
    "Tất cả các bộ dữ liệu TorchVision đều có hai tham số -`transform` để sửa đổi các tính năng và `target_transform` để sửa đổi các nhãn - chấp nhận các bảng gọi có chứa logic chuyển đổi. Mô-đun [`torchvision.transforms`](https://pytorch.org/vision/stable/transforms.html) cung cấp một số biến đổi thường được sử dụng ngoài hộp.\n",
    "\n",
    "Các tính năng FashionMNIST có định dạng PIL Image và nhãn là số nguyên. Để đào tạo, chúng ta cần các tính năng dưới dạng tensor được chuẩn hóa và các nhãn dưới dạng tensor được mã hóa one-hot encoded. Để thực hiện các phép biến đổi này, chúng tôi sử dụng `ToTensor` và `Lambda`. "
   ],
   "cell_type": "markdown",
   "metadata": {}
  },
  {
   "cell_type": "code",
   "execution_count": 1,
   "metadata": {},
   "outputs": [],
   "source": [
    "from torchvision import datasets\n",
    "from torchvision.transforms import ToTensor, Lambda\n",
    "\n",
    "ds = datasets.FashionMNIST(\n",
    "    root = 'data',\n",
    "    train=True,\n",
    "    download=True,\n",
    "    transform=ToTensor(),\n",
    "    target_transform=Lambda(lambda y: torch.zeros(10, dtype=torch.float).scatter_(0,                torch.tensor(y), value=1))\n",
    ")"
   ]
  },
  {
   "source": [
    "## `ToTensor()`\n",
    "`ToTensor` chuyển đổi hình ảnh PIL hoặc `ndarray` NumPy thành `FloatTensor`. và chia tỷ lệ các giá trị cường độ pixel của hình ảnh trong phạm vi `[0,, 1]`"
   ],
   "cell_type": "markdown",
   "metadata": {}
  },
  {
   "source": [
    "## Lambda Transforms\n",
    "Các biến đổi lambda áp dụng bất kỳ hàm lambda nào do người dùng xác định. Ở đây, chúng tôi xác định một hàm để biến số nguyên thành một tensor được mã hóa one-hot. Đầu tiên, nó tạo ra một tensor 0 có kích thước 10 (số lượng nhãn trong tập dữ liệu của chúng tôi) và gọi `scatter_` mà chỉ định một `value = 1` trên chỉ mục như được đưa ra bởi nhãn `y`.\n",
    "```\n",
    "target_transform = Lambda(lambda y: torch.zeros(\n",
    "    10, dtype=torch.float).scatter_(dim=0, index=torch.tensor(y), value=1))\n",
    "```"
   ],
   "cell_type": "markdown",
   "metadata": {}
  },
  {
   "source": [
    "## Further Reading\n",
    "- [`torchvision.transforms` API](https://pytorch.org/vision/stable/transforms.html)"
   ],
   "cell_type": "markdown",
   "metadata": {}
  }
 ]
}